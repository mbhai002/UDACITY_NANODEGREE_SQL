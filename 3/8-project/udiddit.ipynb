{
 "cells": [
  {
   "cell_type": "markdown",
   "metadata": {},
   "source": [
    "# Udiddit, a social news aggregator"
   ]
  },
  {
   "cell_type": "markdown",
   "metadata": {},
   "source": [
    "Introduction\n",
    "Udiddit, a social news aggregation, web content rating, and discussion website, is currently using a risky and unreliable Postgres database schema to store the forum posts, discussions, and votes made by their users about different topics.\n",
    "\n",
    "The schema allows posts to be created by registered users on certain topics, and can include a URL or a text content. It also allows registered users to cast an upvote (like) or downvote (dislike) for any forum post that has been created. In addition to this, the schema also allows registered users to add comments on posts.\n",
    "\n",
    "Here is the DDL used to create the schema:\n"
   ]
  },
  {
   "cell_type": "markdown",
   "metadata": {},
   "source": [
    "```sql\n",
    "CREATE TABLE bad_posts (\n",
    "\tid SERIAL PRIMARY KEY,\n",
    "\ttopic VARCHAR(50),\n",
    "\tusername VARCHAR(50),\n",
    "\ttitle VARCHAR(150),\n",
    "\turl VARCHAR(4000) DEFAULT NULL,\n",
    "\ttext_content TEXT DEFAULT NULL,\n",
    "\tupvotes TEXT,\n",
    "\tdownvotes TEXT\n",
    ");\n",
    "\n",
    "CREATE TABLE bad_comments (\n",
    "\tid SERIAL PRIMARY KEY,\n",
    "\tusername VARCHAR(50),\n",
    "\tpost_id BIGINT,\n",
    "\ttext_content TEXT\n",
    ");\n",
    "```"
   ]
  },
  {
   "cell_type": "markdown",
   "metadata": {},
   "source": [
    "# Part I: Investigate the existing schema\n"
   ]
  },
  {
   "cell_type": "markdown",
   "metadata": {},
   "source": [
    "\n",
    "As a first step, investigate this schema and some of the sample data in the project’s SQL workspace. Then, in your own words, outline three (3) specific things that could be improved about this schema. Don’t hesitate to outline more if you want to stand out!\n"
   ]
  },
  {
   "cell_type": "markdown",
   "metadata": {},
   "source": [
    "the table bad_posts should be about post mainly. so everything else should be an id or in a new table.\n",
    "- 1/ a table user should exist\n",
    "- 2/ a table vote should exist\n",
    "- 3/ foreign_key are missing so we can link user table to post table and comment table. foreign key are missing so we can link vote to comments table.\n",
    "- 4/ This is not mandatory but a table topic can be another new table\n",
    "- 5/ vote should be specific number or boolean but not text , so we can count them.\n",
    " "
   ]
  },
  {
   "cell_type": "markdown",
   "metadata": {},
   "source": [
    "# Part II: Create the DDL for your new schema\n"
   ]
  },
  {
   "cell_type": "markdown",
   "metadata": {},
   "source": [
    "\n",
    "Having done this initial investigation and assessment, your next goal is to dive deep into the heart of the problem and create a new schema for Udiddit. Your new schema should at least reflect fixes to the shortcomings you pointed to in the previous exercise. To help you create the new schema, a few guidelines are provided to you:\n"
   ]
  },
  {
   "cell_type": "markdown",
   "metadata": {},
   "source": [
    "### Guideline \n",
    "### 1: here is a list of features and specifications that Udiddit needs in order to support its website and administrative interface:\n"
   ]
  },
  {
   "cell_type": "markdown",
   "metadata": {},
   "source": [
    "\n",
    "a\\ Allow new users to register:\n",
    "- Each username has to be unique\n",
    "- Usernames can be composed of at most 25 characters\n",
    "- Usernames can’t be empty\n",
    "- We won’t worry about user passwords for this project\n"
   ]
  },
  {
   "cell_type": "markdown",
   "metadata": {},
   "source": [
    "```sql\n",
    "CREATE TABLE \"users\" (\n",
    "  \"id\" SERIAL PRIMARY KEY,\n",
    "  \"username\" VARCHAR(25) NOT NULL\n",
    ");\n",
    "\n",
    "-- Ensure usernames are unique\n",
    "ALTER TABLE \"users\" ADD CONSTRAINT \"username_unique\"\n",
    "    UNIQUE (\"username\");\n",
    "```"
   ]
  },
  {
   "cell_type": "markdown",
   "metadata": {},
   "source": [
    "b\\ Allow registered users to create new topics:\n",
    "- Topic names have to be unique.\n",
    "- The topic’s name is at most 30 characters\n",
    "- The topic’s name can’t be empty\n",
    "- Topics can have an optional description of at most 500 characters.\n"
   ]
  },
  {
   "cell_type": "markdown",
   "metadata": {},
   "source": [
    "```sql\n",
    "CREATE TABLE topics (\n",
    "    id SERIAL PRIMARY KEY,\n",
    "    name VARCHAR(30),\n",
    "    description VARCHAR(500)\n",
    ");\n",
    "\n",
    "-- Ensure topic names are unique\n",
    "ALTER TABLE \"topics\" \n",
    "ADD CONSTRAINT \"unique_topic_name\" UNIQUE (\"name\");\n",
    "\n",
    "-- Ensure topic names cannot be empty (NOT NULL)\n",
    "ALTER TABLE \"topics\" \n",
    "ALTER COLUMN name SET NOT NULL;\n",
    "\n",
    "```"
   ]
  },
  {
   "cell_type": "markdown",
   "metadata": {},
   "source": [
    "c\\ Allow registered users to create new posts on existing topics:\n",
    "- Posts have a required title of at most 100 characters\n",
    "- The title of a post can’t be empty.\n",
    "- Posts should contain either a URL or a text content, but not both.\n",
    "- If a topic gets deleted, all the posts associated with it should be automatically deleted too.\n",
    "- If the user who created the post gets deleted, then the post will remain, but it will become dissociated from that user.\n"
   ]
  },
  {
   "cell_type": "markdown",
   "metadata": {},
   "source": [
    "```sql\n",
    "CREATE TABLE posts (\n",
    "    id SERIAL PRIMARY KEY,\n",
    "    topic_id INT,\n",
    "    user_id INT,\n",
    "    title VARCHAR(100),\n",
    "    url VARCHAR(4000) DEFAULT NULL,\n",
    "    text_content TEXT DEFAULT NULL\n",
    ");\n",
    "\n",
    "-- Ensure titles are required and cannot be empty\n",
    "ALTER TABLE \"posts\" \n",
    "ALTER COLUMN \"title\" SET NOT NULL;\n",
    "\n",
    "-- Ensure posts contain either a URL or text content, but not both\n",
    "ALTER TABLE \"posts\" \n",
    "ADD CONSTRAINT \"chk_url_or_text\" CHECK (\n",
    "    (url IS NOT NULL AND \"text_content\" IS NULL) OR \n",
    "    (url IS NULL AND \"text_content\" IS NOT NULL)\n",
    ");\n",
    "\n",
    "-- Automatically delete posts if the topic is deleted\n",
    "ALTER TABLE \"posts\" \n",
    "ADD CONSTRAINT \"fk_posts_topic\" FOREIGN KEY (\"topic_id\") \n",
    "REFERENCES \"topics\"(\"id\") ON DELETE CASCADE;\n",
    "\n",
    "-- If a user is deleted, keep the post but dissociate it from the user\n",
    "ALTER TABLE posts \n",
    "ADD CONSTRAINT \"fk_posts_user\" FOREIGN KEY (\"user_id\") \n",
    "REFERENCES \"users\"(\"id\") ON DELETE SET NULL;\n",
    "```"
   ]
  },
  {
   "cell_type": "markdown",
   "metadata": {},
   "source": [
    "d\\ Allow registered users to comment on existing posts:\n",
    "- A comment’s text content can’t be empty.\n",
    "- Contrary to the current linear comments, the new structure should allow comment threads at arbitrary levels.\n",
    "- If a post gets deleted, all comments associated with it should be automatically deleted too.\n",
    "- If the user who created the comment gets deleted, then the comment will remain, but it will become dissociated from that user.\n",
    "- If a comment gets deleted, then all its descendants in the thread structure should be automatically deleted too.\n"
   ]
  },
  {
   "cell_type": "markdown",
   "metadata": {},
   "source": [
    "```sql\n",
    "CREATE TABLE comments (\n",
    "    id SERIAL PRIMARY KEY,\n",
    "    user_id INT,        -- ID of the user who made the comment\n",
    "    post_id INT,       -- ID of the post to which the comment belongs\n",
    "    parent_comment_id INT DEFAULT NULL,  -- ID of the parent comment (NULL for top-level comments)\n",
    "    text_content TEXT NOT NULL -- The comment text (cannot be empty)\n",
    ");\n",
    "\n",
    "-- A comment’s text content can’t be empty.\n",
    "ALTER TABLE \"comments\"\n",
    "ADD CONSTRAINT \"chk_comment_text\" CHECK (trim(\"text_content\") <> '');\n",
    "\n",
    "-- If a post gets deleted, all comments associated with it should be automatically deleted too.\n",
    "ALTER TABLE \"comments\" ADD CONSTRAINT \"fk_comments_post\" FOREIGN KEY (\"post_id\") REFERENCES \"posts\"(id) ON DELETE CASCADE;\n",
    "\n",
    "-- If the user who created the comment gets deleted, then the comment will remain, but it will become dissociated from that user.\n",
    "ALTER TABLE \"comments\" ADD CONSTRAINT \"fk_comments_user\" FOREIGN KEY (\"user_id\") REFERENCES \"users\"(\"id\") ON DELETE SET NULL;\n",
    "\n",
    "-- If a comment gets deleted, then all its descendants in the thread structure should be automatically deleted too.\n",
    "\n",
    "ALTER TABLE \"comments\" ADD CONSTRAINT \"fk_comments_parent\" FOREIGN KEY (\"parent_comment_id\") REFERENCES \"comments\"(\"id\") ON DELETE CASCADE;\n",
    "\n",
    "\n",
    "```"
   ]
  },
  {
   "cell_type": "markdown",
   "metadata": {},
   "source": [
    "e\\ Make sure that a given user can only vote once on a given post:\n",
    "- Hint: you can store the (up/down) value of the vote as the values 1 and -1 respectively.\n",
    "- If the user who cast a vote gets deleted, then all their votes will remain, but will become dissociated from the user.\n",
    "- If a post gets deleted, then all the votes for that post should be automatically deleted too.\n"
   ]
  },
  {
   "cell_type": "markdown",
   "metadata": {},
   "source": [
    "```sql\n",
    "CREATE TABLE votes (\n",
    "    id SERIAL PRIMARY KEY,\n",
    "    user_id INT,       -- ID of the user who voted \n",
    "    post_id INT NOT NULL,  -- ID of the post being voted on\n",
    "    vote_value SMALLINT NOT NULL  -- Vote value: 1 or -1 \n",
    ");\n",
    "\n",
    "-- you can store the (up/down) value of the vote as the values 1 and -1 respectively\n",
    "ALTER TABLE \"votes\" \n",
    "ADD CONSTRAINT \"chk_vote_value\" CHECK (\"vote_value\" IN (-1, 1));\n",
    "\n",
    "-- given user can only vote once\n",
    "ALTER TABLE \"votes\" \n",
    "ADD CONSTRAINT \"unique_user_post_vote\" UNIQUE (\"user_id\", \"post_id\");\n",
    "\n",
    "-- If the user who cast a vote gets deleted, then all their votes will remain, but will become dissociated from the user.\n",
    "ALTER TABLE \"votes\" \n",
    "ADD CONSTRAINT \"fk_votes_user\"\n",
    "FOREIGN KEY (\"user_id\")\n",
    "REFERENCES \"users\"(id)\n",
    "ON DELETE SET NULL;\n",
    "\n",
    "-- If a post gets deleted, then all the votes for that post should be automatically deleted too.\n",
    "\n",
    "ALTER TABLE \"votes\" \n",
    "ADD CONSTRAINT \"fk_votes_post\"\n",
    "FOREIGN KEY (\"post_id\")\n",
    "REFERENCES \"posts\"(id)\n",
    "ON DELETE CASCADE;\n",
    "\n",
    "\n",
    "\n",
    "\n",
    "\n",
    "```"
   ]
  },
  {
   "cell_type": "markdown",
   "metadata": {},
   "source": [
    "### Guideline \n",
    "### 2: here is a list of queries that Udiddit needs in order to support its website and administrative interface. Note that you don’t need to produce the DQL for those queries: they are only provided to guide the design of your new database schema.\n"
   ]
  },
  {
   "cell_type": "markdown",
   "metadata": {},
   "source": [
    "\n",
    "List all users who haven’t logged in in the last year.\n",
    "List all users who haven’t created any post.\n",
    "Find a user by their username.\n",
    "List all topics that don’t have any posts.\n",
    "Find a topic by its name.\n",
    "List the latest 20 posts for a given topic.\n",
    "List the latest 20 posts made by a given user.\n",
    "Find all posts that link to a specific URL, for moderation purposes. \n",
    "List all the top-level comments (those that don’t have a parent comment) for a given post.\n",
    "List all the direct children of a parent comment.\n",
    "List the latest 20 comments made by a given user.\n",
    "Compute the score of a post, defined as the difference between the number of upvotes and the number of downvotes\n"
   ]
  },
  {
   "cell_type": "markdown",
   "metadata": {},
   "source": [
    "### Guideline \n",
    "### 3: you’ll need to use normalization, various constraints, as well as indexes in your new database schema. You should use named constraints and indexes to make your schema cleaner.\n"
   ]
  },
  {
   "cell_type": "markdown",
   "metadata": {},
   "source": [
    "```sql\n",
    "\n",
    "-- Indexes to improve join performance on foreign keys:\n",
    "CREATE INDEX idx_posts_topic_id ON posts(topic_id);\n",
    "CREATE INDEX idx_posts_user_id  ON posts(user_id);\n",
    "\n",
    "\n",
    "-- Indexes for quick lookups on foreign key columns:\n",
    "CREATE INDEX idx_comments_post_id           ON comments(post_id);\n",
    "CREATE INDEX idx_comments_parent_comment_id ON comments(parent_comment_id);\n",
    "CREATE INDEX idx_comments_user_id           ON comments(user_id);\n",
    "\n",
    "\n",
    "-- Indexes for performance:\n",
    "CREATE INDEX idx_votes_post_id ON votes(post_id);\n",
    "CREATE INDEX idx_votes_user_id ON votes(user_id);\n",
    "```\n"
   ]
  },
  {
   "cell_type": "markdown",
   "metadata": {},
   "source": [
    "### Guideline \n",
    "### 4: your new database schema will be composed of five (5) tables that should have an auto-incrementing id as their primary key.\n"
   ]
  },
  {
   "cell_type": "markdown",
   "metadata": {},
   "source": [
    "# Part III: Migrate the provided data\n",
    "\n"
   ]
  },
  {
   "cell_type": "markdown",
   "metadata": {},
   "source": [
    "\n",
    "Now that your new schema is created, it’s time to migrate the data from the provided schema in the project’s SQL Workspace to your own schema. This will allow you to review some DML and DQL concepts, as you’ll be using INSERT...SELECT queries to do so. Here are a few guidelines to help you in this process:\n",
    "\n",
    "- Topic descriptions can all be empty\n",
    "- Since the bad_comments table doesn’t have the threading feature, you can migrate all comments as top-level comments, i.e. without a parent\n",
    "- You can use the Postgres string function regexp_split_to_table to unwind the comma-separated votes values into separate rows\n",
    "- Don’t forget that some users only vote or comment, and haven’t created any posts. You’ll have to create those users too.\n",
    "- The order of your migrations matter! For example, since posts depend on users and topics, you’ll have to migrate the latter first.\n",
    "- Tip: You can start by running only SELECTs to fine-tune your queries, and use a LIMIT to avoid large data sets. Once you know you have the correct query, you can then run your full INSERT...SELECT query.\n",
    "- NOTE: The data in your SQL Workspace contains thousands of posts and comments. The DML queries may take at least 10-15 seconds to run.\n",
    "\n",
    "Write the DML to migrate the current data in bad_posts and bad_comments to your new database schema:\n"
   ]
  },
  {
   "cell_type": "markdown",
   "metadata": {},
   "source": [
    "### 1. Migrate Users\n"
   ]
  },
  {
   "cell_type": "markdown",
   "metadata": {},
   "source": [
    "```sql\n",
    "INSERT INTO users(username)\n",
    "SELECT DISTINCT trim(username)\n",
    "FROM (\n",
    "  SELECT username\n",
    "    FROM bad_posts\n",
    "  UNION\n",
    "  SELECT username\n",
    "    FROM bad_comments\n",
    "  UNION\n",
    "  -- Unwind comma-separated upvotes\n",
    "  SELECT regexp_split_to_table(upvotes, ',') AS username\n",
    "    FROM bad_posts\n",
    "    WHERE upvotes IS NOT NULL\n",
    "  UNION\n",
    "  -- Unwind comma-separated downvotes\n",
    "  SELECT regexp_split_to_table(downvotes, ',') AS username\n",
    "    FROM bad_posts\n",
    "    WHERE downvotes IS NOT NULL\n",
    ") AS all_users\n",
    "WHERE trim(username) <> '';\n",
    "\n",
    "```"
   ]
  },
  {
   "cell_type": "markdown",
   "metadata": {},
   "source": [
    "### 2. Migrate Topics"
   ]
  },
  {
   "cell_type": "markdown",
   "metadata": {},
   "source": [
    "```sql\n",
    "INSERT INTO topics(name, description)\n",
    "SELECT DISTINCT trim(topic) AS name,\n",
    "       '' AS description\n",
    "FROM bad_posts\n",
    "WHERE topic IS NOT NULL AND trim(topic) <> '';\n",
    "\n",
    "```"
   ]
  },
  {
   "cell_type": "markdown",
   "metadata": {},
   "source": [
    "### 3. Migrate Posts"
   ]
  },
  {
   "cell_type": "markdown",
   "metadata": {},
   "source": [
    "```sql\n",
    "INSERT INTO posts(id, topic_id, user_id, title, url, text_content)\n",
    "SELECT b.id,\n",
    "       t.id,\n",
    "       u.id,\n",
    "       left(b.title,100),\n",
    "       b.url,\n",
    "       b.text_content\n",
    "FROM bad_posts b\n",
    "JOIN topics t ON t.name = trim(b.topic)\n",
    "JOIN users u ON u.username = trim(b.username);\n",
    "\n",
    "```"
   ]
  },
  {
   "cell_type": "markdown",
   "metadata": {},
   "source": [
    "### 4. Migrate Comments"
   ]
  },
  {
   "cell_type": "markdown",
   "metadata": {},
   "source": [
    "```sql\n",
    "INSERT INTO comments(user_id, post_id, parent_comment_id, text_content)\n",
    "SELECT u.id,\n",
    "       p.id,\n",
    "       NULL,               -- No parent since legacy comments are not threaded\n",
    "       bc.text_content\n",
    "       \n",
    "FROM bad_comments bc\n",
    "JOIN posts p ON p.id = bc.post_id\n",
    "JOIN users u ON u.username = trim(bc.username);\n",
    "\n",
    "\n",
    "```"
   ]
  },
  {
   "cell_type": "markdown",
   "metadata": {},
   "source": [
    "### 5. Migrate Votes\n"
   ]
  },
  {
   "cell_type": "markdown",
   "metadata": {},
   "source": [
    "```sql\n",
    "INSERT INTO votes(user_id, post_id, vote_value)\n",
    "SELECT u.id,\n",
    "       b.id,\n",
    "       1 AS vote_value\n",
    "       \n",
    "FROM bad_posts b\n",
    "CROSS JOIN LATERAL regexp_split_to_table(b.upvotes, ',') AS vote_username\n",
    "JOIN users u ON u.username = trim(vote_username)\n",
    "WHERE b.upvotes IS NOT NULL AND trim(b.upvotes) <> '';\n",
    "\n",
    "\n",
    "INSERT INTO votes(user_id, post_id, vote_value)\n",
    "SELECT u.id,\n",
    "       b.id,\n",
    "       -1 AS vote_value\n",
    "FROM bad_posts b\n",
    "CROSS JOIN LATERAL regexp_split_to_table(b.downvotes, ',') AS vote_username\n",
    "JOIN users u ON u.username = trim(vote_username)\n",
    "WHERE b.downvotes IS NOT NULL AND trim(b.downvotes) <> '';\n",
    "\n",
    "\n",
    "```"
   ]
  },
  {
   "cell_type": "markdown",
   "metadata": {},
   "source": []
  }
 ],
 "metadata": {
  "kernelspec": {
   "display_name": "Python 3",
   "language": "python",
   "name": "python3"
  },
  "language_info": {
   "name": "python",
   "version": "undefined.undefined.undefined"
  }
 },
 "nbformat": 4,
 "nbformat_minor": 2
}
