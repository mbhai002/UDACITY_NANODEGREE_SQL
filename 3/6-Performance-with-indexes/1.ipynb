{
 "cells": [
  {
   "cell_type": "code",
   "execution_count": null,
   "metadata": {
    "vscode": {
     "languageId": "plaintext"
    }
   },
   "outputs": [],
   "source": [
    "#show table in database\n",
    "postgres=# \\dt\n",
    "\n",
    "#describe table\n",
    "postgres=# \\d tablename\n",
    "\n",
    "#show top rows in a table\n",
    "postgres=# TABLE tablename\n",
    "\n"
   ]
  },
  {
   "cell_type": "markdown",
   "metadata": {},
   "source": [
    "# 8 Solution: Indexing Exercise"
   ]
  },
  {
   "cell_type": "markdown",
   "metadata": {},
   "source": [
    "```sql\n",
    "\n",
    "\n",
    "-- Constraints\n",
    "ALTER TABLE \"authors\"\n",
    "  ADD PRIMARY KEY (\"id\");\n",
    "\n",
    "ALTER TABLE \"topics\"\n",
    "  ADD PRIMARY KEY(\"id\"),\n",
    "  ADD UNIQUE (\"name\"),\n",
    "  ALTER COLUMN \"name\" SET NOT NULL;\n",
    "\n",
    "ALTER TABLE \"books\"\n",
    "  ADD PRIMARY KEY (\"id\"),\n",
    "  ADD UNIQUE (\"isbn\"),\n",
    "  ADD FOREIGN KEY (\"author_id\") REFERENCES \"authors\" (\"id\");\n",
    "\n",
    "ALTER TABLE \"book_topics\"\n",
    "  ADD PRIMARY KEY (\"book_id\", \"topic_id\");\n",
    "-- or (\"topic_id\", \"book_id\") instead...?\n",
    "\n",
    "-- We need to be able to quickly find books and authors by their IDs.\n",
    "-- Already taken care of by primary keys\n",
    "\n",
    "-- We need to be able to quickly tell which books an author has written.\n",
    "CREATE INDEX \"find_books_by_author\" ON \"books\" (\"author_id\");\n",
    "\n",
    "-- We need to be able to quickly find a book by its ISBN #.\n",
    "-- The unique constraint on ISBN already takes care of that \n",
    "--   by adding a unique index\n",
    "\n",
    "-- We need to be able to quickly search for books by their titles\n",
    "--   in a case-insensitive way, even if the title is partial. For example, \n",
    "--   searching for \"the\" should return \"The Lord of the rings\".\n",
    "CREATE INDEX \"find_books_by_partial_title\" ON \"books\" (\n",
    "  LOWER(\"title\") VARCHAR_PATTERN_OPS\n",
    ");\n",
    "\n",
    "-- For a given book, we need to be able to quickly find all the topics \n",
    "--   associated with it.\n",
    "-- The primary key on the book_topics table already takes care of that \n",
    "--   since there's an underlying unique index\n",
    "\n",
    "-- For a given topic, we need to be able to quickly find all the books \n",
    "--   tagged with it.\n",
    "CREATE INDEX \"find_books_by_topic\" ON \"book_topics\" (\"topic_id\");\n",
    "\n",
    "```"
   ]
  },
  {
   "cell_type": "markdown",
   "metadata": {
    "vscode": {
     "languageId": "plaintext"
    }
   },
   "source": [
    "# 17 Solution: Creating a Complete Schema Exercise\n"
   ]
  },
  {
   "cell_type": "markdown",
   "metadata": {
    "vscode": {
     "languageId": "sql"
    }
   },
   "source": [
    "```sql\n",
    "CREATE TABLE \"movies\" (\n",
    "  \"id\" SERIAL PRIMARY KEY,\n",
    "  \"title\" VARCHAR(500), --  Night of the Day of the Dawn of the Son of the Bride of the Return of the Revenge of the Terror of the Attack of the Evil, Mutant, Hellbound, Flesh-Eating Subhumanoid Zombified Living Dead, Part 3\n",
    "  \"description\" TEXT\n",
    ");\n",
    "\n",
    "\n",
    "CREATE TABLE \"categories\" (\n",
    "  \"id\" SERIAL PRIMARY KEY,\n",
    "  \"name\" VARCHAR(50) UNIQUE\n",
    ");\n",
    "\n",
    "CREATE TABLE \"movie_categories\" (\n",
    "  \"movie_id\" INTEGER REFERENCES \"movies\",\n",
    "  \"category_id\" INTEGER REFERENCES \"categories\",\n",
    "  PRIMARY KEY (\"movie_id\", \"category_id\")\n",
    ");\n",
    "\n",
    "CREATE TABLE \"users\" (\n",
    "  \"id\" SERIAL PRIMARY KEY,\n",
    "  \"username\" VARCHAR(100),\n",
    ");\n",
    "CREATE UNIQUE INDEX ON \"users\" (LOWER(\"username\"));\n",
    "\n",
    "CREATE TABLE \"user_movie_ratings\" (\n",
    "  \"user_id\" INTEGER REFERENCES \"users\",\n",
    "  \"movie_id\" INTEGER REFERENCES \"movies\",\n",
    "  \"rating\" SMALLINT CHECK (\"rating\" BETWEEN 0 AND 100),\n",
    "  PRIMARY KEY (\"user_id\", \"movie_id\")\n",
    ");\n",
    "CREATE INDEX ON \"user_movie_ratings\" (\"movie_id\");\n",
    "\n",
    "CREATE TABLE \"user_category_likes\" (\n",
    "  \"user_id\" INTEGER REFERENCES \"users\",\n",
    "  \"category_id\" INTEGER REFERENCES \"categories\",\n",
    "  PRIMARY KEY (\"user_id\", \"category_id\")\n",
    ");\n",
    "CREATE INDEX ON \"user_category_likes\" (\"category_id\");```"
   ]
  },
  {
   "cell_type": "markdown",
   "metadata": {
    "vscode": {
     "languageId": "sql"
    }
   },
   "source": [
    "```sql\n",
    "TRUNCATE TABLE comments;\n",
    "\n",
    "ALTER TABLE \"comments\"\n",
    "    ADD FOREIGN KEY (\"user_id\") REFERENCES \"users\" (\"id\");\n",
    "\n",
    "INSERT INTO \"comments\" (\"user_id\", \"content\") VALUES (100, 'comment text'), (-5, 'other comment text...');\n",
    "\n",
    "ALTER TABLE \"comment_likes\"\n",
    "    ADD FOREIGN KEY (\"user_id\") REFERENCES \"users\";\n",
    "\n",
    "ALTER TABLE \"comment_likes\"\n",
    "    ADD FOREIGN KEY (\"comment_id\") REFERENCES \"comments\" (\"id\");\n",
    "\n",
    "\n",
    "\n",
    "DROP TABLE \"comment_likes\";\n",
    "CREATE TABLE \"comment_likes\" (\n",
    "    \"user_id\" INTEGER REFERENCES \"users\",\n",
    "    \"comment_id\" INTEGER,\n",
    "    FOREIGN KEY (\"comment_id\") REFERENCES \"comments\" (\"id\")\n",
    ");\n",
    "\n",
    "```"
   ]
  },
  {
   "cell_type": "markdown",
   "metadata": {},
   "source": [
    "# 17 Glossary"
   ]
  },
  {
   "cell_type": "markdown",
   "metadata": {},
   "source": [
    "\n",
    "| Key Term            | Definition                                                                                                                                                                      |\n",
    "|---------------------|----------------------------------------------------------------------------------------------------------------------------------------------------------------------------------|\n",
    "| Index               | A data structure stored on disk and targeting one or more columns of a table. Due to the way it's sorted, an index can make it fast to find rows in a table when filtering on the target column(s). |\n",
    "| Composite Index     | An index that targets multiple columns. The order in which the columns are specified matters.                                                                                   |\n",
    "| Sequential Scan     | A database operation where every row of a table is visited in order to fulfill a particular query.                                                                              |\n",
    "| Query Planner       | The part of Postgres that looks at a query to be executed, table statistics, and available resources to decide on a Query Plan.                                                  |\n",
    "| Query Plan          | The ordered series of steps that Postgres will follow in order to fulfill a query.                                                                                              |\n",
    "| Query Plan Cost     | A unitless measure of how much effort and resources will be required in order to fulfill a query. Only comparable to itself for a given query after making some changes to data and/or indexes. |\n",
    "| Query Plan Node     | A unit of work in a query plan, i.e. one of the steps required to fulfill a query.                                                                                               |\n"
   ]
  },
  {
   "cell_type": "markdown",
   "metadata": {},
   "source": []
  }
 ],
 "metadata": {
  "language_info": {
   "name": "python"
  }
 },
 "nbformat": 4,
 "nbformat_minor": 2
}
