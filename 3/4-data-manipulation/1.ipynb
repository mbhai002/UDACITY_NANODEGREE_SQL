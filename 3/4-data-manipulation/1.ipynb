{
 "cells": [
  {
   "cell_type": "code",
   "execution_count": null,
   "metadata": {
    "vscode": {
     "languageId": "plaintext"
    }
   },
   "outputs": [],
   "source": [
    "#show table in database\n",
    "postgres=# \\dt\n",
    "\n",
    "#describe table\n",
    "postgres=# \\d tablename\n",
    "\n",
    "#show top rows in a table\n",
    "postgres=# TABLE tablename\n",
    "\n"
   ]
  },
  {
   "cell_type": "markdown",
   "metadata": {},
   "source": [
    "# 1  SQL DML: Data Manipulation Language"
   ]
  },
  {
   "cell_type": "markdown",
   "metadata": {
    "vscode": {
     "languageId": "plaintext"
    }
   },
   "source": [
    "# 2 Inserting Data: Form One"
   ]
  },
  {
   "cell_type": "markdown",
   "metadata": {
    "vscode": {
     "languageId": "sql"
    }
   },
   "source": [
    "```sql\n",
    "INSERT INTO table (column list) VALUES (first row of values), ...\n",
    "```"
   ]
  },
  {
   "cell_type": "markdown",
   "metadata": {},
   "source": []
  },
  {
   "cell_type": "markdown",
   "metadata": {
    "vscode": {
     "languageId": "sql"
    }
   },
   "source": [
    "```sql\n",
    "INSERT INTO \"movies\"(\"name\", \"release_date\") VALUES\n",
    "    ('EPISODE 4 - a new hope', '1977-05-25'),\n",
    "    ('EPISODE 5 - the empire strikes back', '1980-05-17'),\n",
    "    ('EPISODE 6 - return of the jedi', '1983-05-25');\n",
    "\n",
    "INSERT INTO \"movies\"(\"id\", \"name\", \"release_date\") VALUES\n",
    "    (1, 'EPISODE 4 - a new hope', '1977-05-25'),\n",
    "    (2, 'EPISODE 5 - the empire strikes back', '1980-05-17'),\n",
    "    (3, 'EPISODE 6 - return of the jedi', '1983-05-25');\n",
    "\n",
    "INSERT INTO \"movies\"(\"name\", \"release_date\") VALUES\n",
    "    (DEFAULT, 'EPISODE 4 - a new hope', '1977-05-25'),\n",
    "    (DEFAULT, 'EPISODE 5 - the empire strikes back', '1980-05-17'),\n",
    "    (DEFAULT, 'EPISODE 6 - return of the jedi', '1983-05-25');\n",
    "\n",
    "    ```"
   ]
  },
  {
   "cell_type": "markdown",
   "metadata": {
    "vscode": {
     "languageId": "sql"
    }
   },
   "source": [
    "# 3 Inserting Data: Form Two"
   ]
  },
  {
   "cell_type": "markdown",
   "metadata": {},
   "source": [
    "```sql\n",
    "INSERT INTO table_name (\"column list in the order it's returned by the SELECT\") SELECT … ;\n",
    "\n",
    "INSERT INTO \"categories\" (\"name\") SELECT DISTINCT \"category\" FROM \"books\" ;\n",
    "\n",
    "CREATE TABLE \"categories\" (\n",
    "    \"id\" SERIAL,\n",
    "    \"name\" VARCHAR\n",
    ");\n",
    "\n",
    "INSERT INTO \"categories\" (\"name\") \n",
    "    SELECT DISTINCT \"category\" FROM \"posts\" ;\n",
    "```\n",
    "\n",
    "\n",
    "\n",
    "\n"
   ]
  },
  {
   "cell_type": "markdown",
   "metadata": {},
   "source": [
    "# 6 Inserting Data: Exercise Solution"
   ]
  },
  {
   "cell_type": "markdown",
   "metadata": {},
   "source": [
    "```sql\n",
    "-- Migrate people\n",
    "INSERT INTO \"people\" (\"first_name\", \"last_name\")\n",
    "  SELECT \"first_name\", \"last_name\" FROM \"denormalized_people\";\n",
    "\n",
    "SELECT * FROM \"people\";\n",
    "\n",
    "  -- Migrate people's emails using the correct ID\n",
    "INSERT INTO \"people_emails\"\n",
    "SELECT \"p\".\"id\", REGEXP_SPLIT_TO_TABLE(\"dn\".\"emails\", ',')\n",
    "FROM \"denormalized_people\" \"dn\"\n",
    "JOIN \"people\" \"p\" ON (\n",
    "  \"dn\".\"first_name\" = \"p\".\"first_name\"\n",
    "  AND \"dn\".\"last_name\" = \"p\".\"last_name\"\n",
    ");\n",
    "```\n"
   ]
  },
  {
   "cell_type": "markdown",
   "metadata": {},
   "source": [
    "# 7 Updating Data in Postgres"
   ]
  },
  {
   "cell_type": "markdown",
   "metadata": {
    "vscode": {
     "languageId": "plaintext"
    }
   },
   "source": [
    "```sql\n",
    "--Create users table\n",
    "\n",
    "CREATE TABLE users (\n",
    "    id SERIAL,\n",
    "    name VARCHAR,\n",
    "    happiness_level SMALLINT,\n",
    "    mood VARCHAR\n",
    ");\n",
    "\n",
    "-- Insert data into users table\n",
    "\n",
    "INSERT INTO users (name, happiness_level)\n",
    "VALUES \n",
    "    ('User4', 12),\n",
    "    ('User1', 50),\n",
    "    ('User2', 75),\n",
    "    ('User3', 89);\n",
    "\n",
    "-- Create posts table\n",
    "\n",
    "CREATE TABLE posts (\n",
    "    id SERIAL,\n",
    "    title TEXT,\n",
    "    category VARCHAR\n",
    ");\n",
    "\n",
    "-- Insert data into posts table\n",
    "\n",
    "INSERT INTO posts (title, category)\n",
    "VALUES \n",
    "    ('First posts', 'General'),\n",
    "    ('Second posts', 'Travel'),\n",
    "    ('Third posts', 'Equipment'),\n",
    "    ('4th posts', 'Travel'),\n",
    "    ('lorem ipsum', 'Tips'),\n",
    "    ('Amother post', 'Travel');\n",
    "\n",
    "-- Create categories table\n",
    "\n",
    "CREATE TABLE categories (\n",
    "    id SERIAL,\n",
    "    name VARCHAR\n",
    ");\n",
    "\n",
    "-- Insert data into categories table\n",
    "\n",
    "INSERT INTO categories (name)\n",
    "VALUES \n",
    "    ('Travel'),\n",
    "    ('Equipment'),\n",
    "    ('General'),\n",
    "    ('Tips');\n",
    "\n",
    "\n",
    "-- Update mood based on happiness_level\n",
    "\n",
    "UPDATE \"users\" SET \"mood\" = 'LOW' WHERE \"happiness_level\" < 33;\n",
    "UPDATE \"users\" SET \"mood\" = 'Average' WHERE \"happiness_level\" BETWEEN 33 AND 65;\n",
    "UPDATE \"users\" SET \"mood\" = 'Good' WHERE \"happiness_level\" >= 66;\n",
    "\n",
    "-- Select all records from the users table\n",
    "\n",
    "SELECT * FROM users;\n",
    "\n",
    "-- Update mood to 'Excellent' for all users\n",
    "\n",
    "UPDATE \"users\" SET \"mood\" = 'Excellent';\n",
    "\n",
    "-- Select all records from the users table\n",
    "\n",
    "SELECT * FROM users;\n",
    "\n",
    "-- Update mood to 'Excellent' and set happiness_level to 100 for all users\n",
    "\n",
    "UPDATE \"users\" SET \"mood\" = 'Excellent', \"happiness_level\" = 100;\n",
    "\n",
    "-- Select all records from the users table\n",
    "\n",
    "SELECT * FROM us\n",
    "\n",
    "\n",
    "\n",
    "-- Add category_id column to posts table\n",
    "\n",
    "ALTER TABLE \"posts\" ADD COLUMN \"category_id\" INTEGER;\n",
    "\n",
    "-- Display the structure of the posts table\n",
    "\n",
    "TABLE posts;\n",
    "\n",
    "-- Update category_id in posts table based on category names\n",
    "\n",
    "UPDATE \"posts\" SET \"category_id\" = (\n",
    "    SELECT \"id\" FROM \"categories\" WHERE \"categories\".\"name\" = \"posts\".\"category\"\n",
    ");\n",
    "\n",
    "-- Display the structure of the posts table\n",
    "\n",
    "TABLE posts;\n",
    "\n",
    "\n",
    "\n",
    "```"
   ]
  },
  {
   "cell_type": "markdown",
   "metadata": {},
   "source": [
    "# 10 Updating Data: Solution"
   ]
  },
  {
   "cell_type": "markdown",
   "metadata": {},
   "source": [
    "```sql\n",
    "-- Update the last_name column to be capitalized\n",
    "UPDATE \"people\" SET \"last_name\" =\n",
    "  SUBSTR(\"last_name\", 1, 1) ||\n",
    "  LOWER(SUBSTR(\"last_name\", 2));\n",
    "\n",
    "\n",
    "\n",
    "-- Change the born_ago column to date_of_birth\n",
    "ALTER TABLE \"people\" ADD column \"date_of_birth\" DATE;\n",
    "\n",
    "UPDATE \"people\" SET \"date_of_birth\" = \n",
    "  (CURRENT_TIMESTAMP - \"born_ago\"::INTERVAL)::DATE;\n",
    "\n",
    "ALTER TABLE \"people\" DROP COLUMN \"born_ago\";\n",
    "```"
   ]
  },
  {
   "cell_type": "markdown",
   "metadata": {},
   "source": [
    "# 11 Deleting Data in Postgres"
   ]
  },
  {
   "cell_type": "markdown",
   "metadata": {},
   "source": [
    "\n",
    "The basic syntax for deleting rows from a table is **DELETE FROM table_name WHERE** …. Just like **SELECT** and **UPDATE**, omitting the **WHERE** clause will delete all rows from the table. Again, this is rarely what you want to do! Contrary to **TRUNCATE TABLE**, doing a **DELETE** without a **WHERE** won't allow you to restart the sequence if you have one in your table. More importantly, in a future lesson we'll learn about indexing as a way to make queries perform faster in the presence of large amounts of data. Running TRUNCATE will also clear these indexes, which will further accelerate queries once new data gets inserted in that table."
   ]
  },
  {
   "cell_type": "markdown",
   "metadata": {},
   "source": [
    "# 12 Data Manipulation: Transactions"
   ]
  },
  {
   "cell_type": "markdown",
   "metadata": {},
   "source": [
    "```sql\n",
    "SELECT\n",
    "```"
   ]
  },
  {
   "cell_type": "markdown",
   "metadata": {},
   "source": [
    "# 14 Data Manipulation Exercise: Solution"
   ]
  },
  {
   "cell_type": "markdown",
   "metadata": {},
   "source": [
    "```sql\n",
    "-- Do everything in a transaction\n",
    "BEGIN;\n",
    "\n",
    "\n",
    "-- Remove all users from New York and California\n",
    "DELETE FROM \"user_data\" WHERE \"state\" IN ('NY', 'CA');\n",
    "\n",
    "\n",
    "-- Split the name column in first_name and last_name\n",
    "ALTER TABLE \"user_data\"\n",
    "  ADD COLUMN \"first_name\" VARCHAR,\n",
    "  ADD COLUMN \"last_name\" VARCHAR;\n",
    "\n",
    "UPDATE \"user_data\" SET\n",
    "  \"first_name\" = SPLIT_PART(\"name\", ' ', 1),\n",
    "  \"last_name\" = SPLIT_PART(\"name\", ' ', 2);\n",
    "\n",
    "ALTER TABLE \"user_data\" DROP COLUMN \"name\";\n",
    "\n",
    "\n",
    "-- Change from state to state_id\n",
    "CREATE TABLE \"states\" (\n",
    "  \"id\" SMALLSERIAL,\n",
    "  \"state\" CHAR(2)\n",
    ");\n",
    "\n",
    "INSERT INTO \"states\" (\"state\")\n",
    "  SELECT DISTINCT \"state\" FROM \"user_data\";\n",
    "\n",
    "ALTER TABLE \"user_data\" ADD COLUMN \"state_id\" SMALLINT;\n",
    "\n",
    "UPDATE \"user_data\" SET \"state_id\" = (\n",
    "  SELECT \"s\".\"id\"\n",
    "  FROM \"states\" \"s\"\n",
    "  WHERE \"s\".\"state\" = \"user_data\".\"state\"\n",
    ");\n",
    "\n",
    "ALTER TABLE \"user_data\" DROP COLUMN \"state\";\n",
    "```"
   ]
  },
  {
   "cell_type": "markdown",
   "metadata": {},
   "source": [
    "# 16 Glossary"
   ]
  },
  {
   "cell_type": "markdown",
   "metadata": {},
   "source": [
    "| Key Term            | Definition |\n",
    "|---------------------|------------|\n",
    "| **INSERT ... VALUES** | One form of adding data into a table; used when introducing new data in a table. This data would come from an external source like an application. |\n",
    "| **INSERT ... SELECT** | One form of adding data into a table; used when taking already existing data from a table and migrating it — most often with some modifications or clean-ups — into an already existing table. |\n",
    "| **UPDATE**           | Used to update rows of data within a given column with new values. |\n",
    "| **DELETE**           | Used to delete some portion of data from a table. |\n",
    "| **BEGIN**            | Starts a transaction. |\n",
    "| **COMMIT**           | Tells the system to attempt to complete the transaction (make the requested changes). Similar functionality is also achieved with END. |\n",
    "| **ROLLBACK**         | Tells the system to not commit any changes as part of the current transaction, discarding the changes. |\n",
    "| **ACID**             | An acronym that describes the transactional guarantees provided by a relational database. |\n",
    "| **Atomicity**        | The database guarantees that a transaction will either register all the commands in a transaction, or none of them. |\n",
    "| **Consistency**      | The database guarantees that a successful transaction will leave the data in a consistent state, one that obeys all the rules that you've set up. |\n",
    "| **Isolation**        | The database guarantees that concurrent transactions don't \"see each other\" until they are committed. Committing a transaction is a command that tells the database to execute all the commands we passed to it since we started that transaction. |\n",
    "| **Durability**       | The database guarantees that once it accepts a transaction and returns a success, the changes introduced by the transaction will be permanently stored on disk, even if the database crashes right after the success response. |\n"
   ]
  },
  {
   "cell_type": "markdown",
   "metadata": {},
   "source": [
    "```sql\n",
    "\n",
    "```"
   ]
  }
 ],
 "metadata": {
  "language_info": {
   "name": "python"
  }
 },
 "nbformat": 4,
 "nbformat_minor": 2
}
