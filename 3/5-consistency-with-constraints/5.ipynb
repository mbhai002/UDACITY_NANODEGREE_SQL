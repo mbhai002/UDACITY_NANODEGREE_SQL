{
 "cells": [
  {
   "cell_type": "code",
   "execution_count": null,
   "metadata": {
    "vscode": {
     "languageId": "plaintext"
    }
   },
   "outputs": [],
   "source": [
    "#show table in database\n",
    "postgres=# \\dt\n",
    "\n",
    "#describe table\n",
    "postgres=# \\d tablename\n",
    "\n",
    "#show top rows in a table\n",
    "postgres=# TABLE tablename\n",
    "\n"
   ]
  },
  {
   "cell_type": "markdown",
   "metadata": {},
   "source": [
    "# 6 Solution: Unique & Primary Key Constraints"
   ]
  },
  {
   "cell_type": "markdown",
   "metadata": {},
   "source": [
    "```sql\n",
    "\n",
    "\n",
    "ALTER TABLE \"books\" ADD PRIMARY KEY (\"id\");\n",
    "\n",
    "ALTER TABLE \"books\" ADD UNIQUE (\"isbn\");\n",
    "\n",
    "ALTER TABLE \"authors\" ADD PRIMARY KEY (\"id\");\n",
    "\n",
    "ALTER TABLE \"authors\" ADD UNIQUE (\"email_address\");\n",
    "\n",
    "ALTER TABLE \"book_authors\" ADD PRIMARY KEY (\"book_id\", \"author_id\");\n",
    "\n",
    "ALTER TABLE \"book_authors\" ADD UNIQUE (\"book_id\", \"contribution_rank\");\n",
    "\n",
    "```"
   ]
  },
  {
   "cell_type": "markdown",
   "metadata": {
    "vscode": {
     "languageId": "plaintext"
    }
   },
   "source": [
    "# 7 Foreign Key Constraints"
   ]
  },
  {
   "cell_type": "markdown",
   "metadata": {
    "vscode": {
     "languageId": "sql"
    }
   },
   "source": [
    "```sql\n",
    "CREATE TABLE \"users\" (\n",
    "    \"id\" SERIAL PRIMARY KEY,\n",
    "    \"username\" VARCHAR UNIQUE\n",
    ");\n",
    "\n",
    "CREATE TABLE \"comments\" (\n",
    "    \"id\" SERIAL PRIMARY KEY,\n",
    "    \"user_id\" INTEGER,\n",
    "    \"content\" TEXT\n",
    ");\n",
    "\n",
    "CREATE TABLE \"comment_likes\" (\n",
    "    \"user_id\" INTEGER,\n",
    "    \"comment_id\" INTEGER,\n",
    "    PRIMARY KEY (\"user_id\", \"comment_id\")\n",
    ");\n",
    "\n",
    "INSERT INTO \"users\" (\"username\") VALUES ('user1'), ('user2');\n",
    "INSERT INTO \"comments\" (\"user_id\", \"content\") VALUES (100, 'comment text'), (-5, 'other comment text...');```"
   ]
  },
  {
   "cell_type": "markdown",
   "metadata": {
    "vscode": {
     "languageId": "sql"
    }
   },
   "source": [
    "```sql\n",
    "TRUNCATE TABLE comments;\n",
    "\n",
    "ALTER TABLE \"comments\"\n",
    "    ADD FOREIGN KEY (\"user_id\") REFERENCES \"users\" (\"id\");\n",
    "\n",
    "INSERT INTO \"comments\" (\"user_id\", \"content\") VALUES (100, 'comment text'), (-5, 'other comment text...');\n",
    "\n",
    "ALTER TABLE \"comment_likes\"\n",
    "    ADD FOREIGN KEY (\"user_id\") REFERENCES \"users\";\n",
    "\n",
    "ALTER TABLE \"comment_likes\"\n",
    "    ADD FOREIGN KEY (\"comment_id\") REFERENCES \"comments\" (\"id\");\n",
    "\n",
    "\n",
    "\n",
    "DROP TABLE \"comment_likes\";\n",
    "CREATE TABLE \"comment_likes\" (\n",
    "    \"user_id\" INTEGER REFERENCES \"users\",\n",
    "    \"comment_id\" INTEGER,\n",
    "    FOREIGN KEY (\"comment_id\") REFERENCES \"comments\" (\"id\")\n",
    ");\n",
    "\n",
    "```"
   ]
  },
  {
   "cell_type": "markdown",
   "metadata": {},
   "source": [
    "We can add foreign key constraints while creating a table, either by adding a REFERENCES clause with the column definition, or by adding a CONSTRAINT … FOREIGN KEY clause along with all the column definitions.\n",
    "\n",
    "The basic syntax would be:\n",
    "```sql\n",
    "\n",
    "FOREIGN KEY \"referencing_column\" \n",
    "REFERENCES \"referenced_table\" (\"referenced_column\")\n",
    "```\n"
   ]
  },
  {
   "cell_type": "markdown",
   "metadata": {},
   "source": [
    "# 8 Foreign Key Constraints: Modifiers"
   ]
  },
  {
   "cell_type": "markdown",
   "metadata": {},
   "source": [
    "\n",
    "if delete user from user tables, ON DELETE CASCADE will remove all occurence in other tables with the same user_id\n",
    "\n",
    "```sql\n",
    "CREATE TABLE \"comments\" (\n",
    "    \"id\" SERIAL PRIMARY KEY,\n",
    "    \"user_id\" INTEGER REFERENCES \"users\" (\"id\") ON DELETE CASCADE,\n",
    "    \"content\" TEXT\n",
    ");\n",
    "```\n",
    "\n",
    "if delete user from user tables, ON DELETE SET NULL will replace all occurence of user_id in other tables with NULL \n",
    "\n",
    "```sql\n",
    "CREATE TABLE \"comments\" (\n",
    "    \"id\" SERIAL PRIMARY KEY,\n",
    "    \"user_id\" INTEGER REFERENCES \"users\" (\"id\") ON DELETE SET NULL,\n",
    "    \"content\" TEXT\n",
    ");\n",
    "\n",
    "\n",
    "```"
   ]
  },
  {
   "cell_type": "markdown",
   "metadata": {},
   "source": [
    "# 11 Check Constraints"
   ]
  },
  {
   "cell_type": "markdown",
   "metadata": {},
   "source": [
    "when you create a table\n",
    "```sql\n",
    "\n",
    "CREATE TABLE \"items\" (\n",
    "    \"id\" SERIAL PRIMARY KEY,\n",
    "    \"name\" VARCHAR NOT NULL CHECK (LENGTH(TRIM(\"name\")) > 0),\n",
    "    \"quantity\" INTEGER\n",
    "); \n",
    "```\n",
    "\n",
    "WHEN modifying / adding  CONSTRAINTS after \n",
    "\n",
    "```sql\n",
    "\n",
    "ALTER TABLE \"items\" ADD CONSTRAINT \"item_must_have_name\"\n",
    "    CHECK  (LENGTH(TRIM(\"name\")) > 0);\n",
    "\n",
    "ALTER TABLE \"items\" \n",
    "    ADD CONSTRAINT \"non_negative_qty\" CHECK  (\"quatntity\" > 0);\n",
    "```"
   ]
  },
  {
   "cell_type": "markdown",
   "metadata": {},
   "source": [
    "# 15 Solution: Final Review Exercise"
   ]
  },
  {
   "cell_type": "markdown",
   "metadata": {},
   "source": [
    "```sql\n",
    "\n",
    "-- Primary and unique keys\n",
    "ALTER TABLE \"users\"\n",
    "  ADD PRIMARY KEY (\"id\"),\n",
    "  ADD UNIQUE (\"username\"),\n",
    "  ADD UNIQUE (\"email\");\n",
    "\n",
    "ALTER TABLE \"books\"\n",
    "  ADD PRIMARY KEY (\"id\"),\n",
    "  ADD UNIQUE (\"isbn\");\n",
    "\n",
    "ALTER TABLE \"user_book_preferences\"\n",
    "  ADD PRIMARY KEY (\"user_id\", \"book_id\");\n",
    "\n",
    "\n",
    "-- Foreign keys\n",
    "ALTER TABLE \"user_book_preferences\"\n",
    "  ADD FOREIGN KEY (\"user_id\") REFERENCES \"users\",\n",
    "  ADD FOREIGN KEY (\"book_id\") REFERENCES \"books\";\n",
    "\n",
    "\n",
    "-- Usernames need to have a minimum of 5 characters\n",
    "ALTER TABLE \"users\" ADD CHECK (LENGTH(\"username\") >= 5);\n",
    "\n",
    "\n",
    "-- A book's name cannot be empty\n",
    "ALTER TABLE \"books\" ADD CHECK(LENGTH(TRIM(\"name\")) > 0);\n",
    "\n",
    "\n",
    "-- A book's name must start with a capital letter\n",
    "ALTER TABLE \"books\" ADD CHECK (\n",
    "  SUBSTR(\"name\", 1, 1) = UPPER(SUBSTR(\"name\", 1, 1))\n",
    ");\n",
    "\n",
    "\n",
    "-- A user's book preferences have to be distinct\n",
    "ALTER TABLE \"user_book_preferences\" ADD UNIQUE (\"user_id\", \"preference\");\n",
    "\n",
    "```"
   ]
  },
  {
   "cell_type": "markdown",
   "metadata": {},
   "source": [
    "# 17 GLOSSARY"
   ]
  },
  {
   "cell_type": "markdown",
   "metadata": {},
   "source": [
    "| Key Term               | Definition                                                                                                                                                                                                                                                                                                                                                      |\n",
    "|------------------------|-----------------------------------------------------------------------------------------------------------------------------------------------------------------------------------------------------------------------------------------------------------------------------------------------------------------------------------------------------------------|\n",
    "| Constraint             | A rule that can be added at the table or column level to restrict insertion and updates of data based on business rules.                                                                                                                                                                                                                                         |\n",
    "| Unique Constraint      | Ensures that a column or set of columns are unique across all the rows of the table.                                                                                                                                                                                                                                     |\n",
    "| Primary Key Constraint | Like a unique constraint, it enforces unique values across a column or set of columns. In addition to that, it also enforces a NOT NULL, which is another database constraint that can be used by itself to ensure that a column's values cannot be null. Lastly, there can only be one of these for a given table.      |\n",
    "| Surrogate Key          | A primary key that is composed of a value not present in the business data, an artificial value created only for the purpose of uniquely identifying the rest of the data. It is not exposed to users of the system.                                                                                                    |\n",
    "| Natural Key            | When a primary key is composed of a value that is present in the business data and exposed to users of the system.                                                                                                                                                                                                       |\n",
    "| Foreign Key Constraint | Restricts the values in a column to only values that appear in another column. They're often used to relate IDs in relationships between tables, thereby preserving what we call \"referential integrity\". In many cases, the foreign key will refer to a primary key in another table, but that is not necessary. Any column can be referenced by a foreign key constraint. |\n",
    "| Referential Integrity  | The property of columns referencing other entities to be consistent and valid, only referring to existing data.                                                                                                                                                                                                          |\n",
    "| ON DELETE CASCADE      | When the referenced data gets deleted, the referencing rows of data will be automatically deleted as well.                                                                                                                                                                                                               |\n",
    "| ON DELETE SET NULL     | When the referenced data gets deleted, the referring column will have its value set to NULL. Since NULL is a special value, it won't break the foreign key constraint because it will be clear that the row of data is now referencing absolutely nothing.                                                                 |\n",
    "| Check Constraint       | Allows one to implement custom business rules at the level of the database, such as \"a product can't have a negative quantity\".                                                                                                                                                                                          |\n"
   ]
  },
  {
   "cell_type": "markdown",
   "metadata": {},
   "source": []
  }
 ],
 "metadata": {
  "language_info": {
   "name": "python"
  }
 },
 "nbformat": 4,
 "nbformat_minor": 2
}
